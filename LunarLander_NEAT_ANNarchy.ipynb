{
  "cells": [
    {
      "cell_type": "code",
      "execution_count": null,
      "metadata": {
        "colab": {
          "base_uri": "https://localhost:8080/"
        },
        "id": "nc2NVuQgLS56",
        "outputId": "d53af8d8-490f-4f64-fb00-1deee33f0903"
      },
      "outputs": [
        {
          "output_type": "stream",
          "name": "stdout",
          "text": [
            "Requirement already satisfied: ANNarchy in /usr/local/lib/python3.10/dist-packages (4.8.2)\n",
            "Requirement already satisfied: setuptools in /usr/local/lib/python3.10/dist-packages (from ANNarchy) (75.1.0)\n",
            "Requirement already satisfied: cython in /usr/local/lib/python3.10/dist-packages (from ANNarchy) (3.0.11)\n",
            "Requirement already satisfied: numpy in /usr/local/lib/python3.10/dist-packages (from ANNarchy) (1.26.4)\n",
            "Requirement already satisfied: sympy in /usr/local/lib/python3.10/dist-packages (from ANNarchy) (1.13.1)\n",
            "Requirement already satisfied: scipy in /usr/local/lib/python3.10/dist-packages (from ANNarchy) (1.13.1)\n",
            "Requirement already satisfied: matplotlib in /usr/local/lib/python3.10/dist-packages (from ANNarchy) (3.8.0)\n",
            "Requirement already satisfied: tqdm in /usr/local/lib/python3.10/dist-packages (from ANNarchy) (4.66.6)\n",
            "Requirement already satisfied: h5py in /usr/local/lib/python3.10/dist-packages (from ANNarchy) (3.12.1)\n",
            "Requirement already satisfied: lxml in /usr/local/lib/python3.10/dist-packages (from ANNarchy) (5.3.0)\n",
            "Requirement already satisfied: ipykernel in /usr/local/lib/python3.10/dist-packages (from ANNarchy) (5.5.6)\n",
            "Requirement already satisfied: ipython-genutils in /usr/local/lib/python3.10/dist-packages (from ipykernel->ANNarchy) (0.2.0)\n",
            "Requirement already satisfied: ipython>=5.0.0 in /usr/local/lib/python3.10/dist-packages (from ipykernel->ANNarchy) (7.34.0)\n",
            "Requirement already satisfied: traitlets>=4.1.0 in /usr/local/lib/python3.10/dist-packages (from ipykernel->ANNarchy) (5.7.1)\n",
            "Requirement already satisfied: jupyter-client in /usr/local/lib/python3.10/dist-packages (from ipykernel->ANNarchy) (6.1.12)\n",
            "Requirement already satisfied: tornado>=4.2 in /usr/local/lib/python3.10/dist-packages (from ipykernel->ANNarchy) (6.3.3)\n",
            "Requirement already satisfied: contourpy>=1.0.1 in /usr/local/lib/python3.10/dist-packages (from matplotlib->ANNarchy) (1.3.1)\n",
            "Requirement already satisfied: cycler>=0.10 in /usr/local/lib/python3.10/dist-packages (from matplotlib->ANNarchy) (0.12.1)\n",
            "Requirement already satisfied: fonttools>=4.22.0 in /usr/local/lib/python3.10/dist-packages (from matplotlib->ANNarchy) (4.55.0)\n",
            "Requirement already satisfied: kiwisolver>=1.0.1 in /usr/local/lib/python3.10/dist-packages (from matplotlib->ANNarchy) (1.4.7)\n",
            "Requirement already satisfied: packaging>=20.0 in /usr/local/lib/python3.10/dist-packages (from matplotlib->ANNarchy) (24.2)\n",
            "Requirement already satisfied: pillow>=6.2.0 in /usr/local/lib/python3.10/dist-packages (from matplotlib->ANNarchy) (11.0.0)\n",
            "Requirement already satisfied: pyparsing>=2.3.1 in /usr/local/lib/python3.10/dist-packages (from matplotlib->ANNarchy) (3.2.0)\n",
            "Requirement already satisfied: python-dateutil>=2.7 in /usr/local/lib/python3.10/dist-packages (from matplotlib->ANNarchy) (2.8.2)\n",
            "Requirement already satisfied: mpmath<1.4,>=1.1.0 in /usr/local/lib/python3.10/dist-packages (from sympy->ANNarchy) (1.3.0)\n",
            "Requirement already satisfied: jedi>=0.16 in /usr/local/lib/python3.10/dist-packages (from ipython>=5.0.0->ipykernel->ANNarchy) (0.19.2)\n",
            "Requirement already satisfied: decorator in /usr/local/lib/python3.10/dist-packages (from ipython>=5.0.0->ipykernel->ANNarchy) (4.4.2)\n",
            "Requirement already satisfied: pickleshare in /usr/local/lib/python3.10/dist-packages (from ipython>=5.0.0->ipykernel->ANNarchy) (0.7.5)\n",
            "Requirement already satisfied: prompt-toolkit!=3.0.0,!=3.0.1,<3.1.0,>=2.0.0 in /usr/local/lib/python3.10/dist-packages (from ipython>=5.0.0->ipykernel->ANNarchy) (3.0.48)\n",
            "Requirement already satisfied: pygments in /usr/local/lib/python3.10/dist-packages (from ipython>=5.0.0->ipykernel->ANNarchy) (2.18.0)\n",
            "Requirement already satisfied: backcall in /usr/local/lib/python3.10/dist-packages (from ipython>=5.0.0->ipykernel->ANNarchy) (0.2.0)\n",
            "Requirement already satisfied: matplotlib-inline in /usr/local/lib/python3.10/dist-packages (from ipython>=5.0.0->ipykernel->ANNarchy) (0.1.7)\n",
            "Requirement already satisfied: pexpect>4.3 in /usr/local/lib/python3.10/dist-packages (from ipython>=5.0.0->ipykernel->ANNarchy) (4.9.0)\n",
            "Requirement already satisfied: six>=1.5 in /usr/local/lib/python3.10/dist-packages (from python-dateutil>=2.7->matplotlib->ANNarchy) (1.16.0)\n",
            "Requirement already satisfied: jupyter-core>=4.6.0 in /usr/local/lib/python3.10/dist-packages (from jupyter-client->ipykernel->ANNarchy) (5.7.2)\n",
            "Requirement already satisfied: pyzmq>=13 in /usr/local/lib/python3.10/dist-packages (from jupyter-client->ipykernel->ANNarchy) (24.0.1)\n",
            "Requirement already satisfied: parso<0.9.0,>=0.8.4 in /usr/local/lib/python3.10/dist-packages (from jedi>=0.16->ipython>=5.0.0->ipykernel->ANNarchy) (0.8.4)\n",
            "Requirement already satisfied: platformdirs>=2.5 in /usr/local/lib/python3.10/dist-packages (from jupyter-core>=4.6.0->jupyter-client->ipykernel->ANNarchy) (4.3.6)\n",
            "Requirement already satisfied: ptyprocess>=0.5 in /usr/local/lib/python3.10/dist-packages (from pexpect>4.3->ipython>=5.0.0->ipykernel->ANNarchy) (0.7.0)\n",
            "Requirement already satisfied: wcwidth in /usr/local/lib/python3.10/dist-packages (from prompt-toolkit!=3.0.0,!=3.0.1,<3.1.0,>=2.0.0->ipython>=5.0.0->ipykernel->ANNarchy) (0.2.13)\n",
            "Requirement already satisfied: gymnasium in /usr/local/lib/python3.10/dist-packages (1.0.0)\n",
            "Requirement already satisfied: numpy>=1.21.0 in /usr/local/lib/python3.10/dist-packages (from gymnasium) (1.26.4)\n",
            "Requirement already satisfied: cloudpickle>=1.2.0 in /usr/local/lib/python3.10/dist-packages (from gymnasium) (3.1.0)\n",
            "Requirement already satisfied: typing-extensions>=4.3.0 in /usr/local/lib/python3.10/dist-packages (from gymnasium) (4.12.2)\n",
            "Requirement already satisfied: farama-notifications>=0.0.1 in /usr/local/lib/python3.10/dist-packages (from gymnasium) (0.0.4)\n",
            "Requirement already satisfied: swig in /usr/local/lib/python3.10/dist-packages (4.3.0)\n",
            "Requirement already satisfied: gymnasium[box2d] in /usr/local/lib/python3.10/dist-packages (1.0.0)\n",
            "Requirement already satisfied: numpy>=1.21.0 in /usr/local/lib/python3.10/dist-packages (from gymnasium[box2d]) (1.26.4)\n",
            "Requirement already satisfied: cloudpickle>=1.2.0 in /usr/local/lib/python3.10/dist-packages (from gymnasium[box2d]) (3.1.0)\n",
            "Requirement already satisfied: typing-extensions>=4.3.0 in /usr/local/lib/python3.10/dist-packages (from gymnasium[box2d]) (4.12.2)\n",
            "Requirement already satisfied: farama-notifications>=0.0.1 in /usr/local/lib/python3.10/dist-packages (from gymnasium[box2d]) (0.0.4)\n",
            "Requirement already satisfied: box2d-py==2.3.5 in /usr/local/lib/python3.10/dist-packages (from gymnasium[box2d]) (2.3.5)\n",
            "Requirement already satisfied: pygame>=2.1.3 in /usr/local/lib/python3.10/dist-packages (from gymnasium[box2d]) (2.6.1)\n",
            "Requirement already satisfied: swig==4.* in /usr/local/lib/python3.10/dist-packages (from gymnasium[box2d]) (4.3.0)\n"
          ]
        }
      ],
      "source": [
        "%pip install ANNarchy\n",
        "%pip install gymnasium\n",
        "%pip install swig\n",
        "%pip install gymnasium[box2d]"
      ]
    },
    {
      "cell_type": "code",
      "execution_count": null,
      "metadata": {
        "colab": {
          "base_uri": "https://localhost:8080/"
        },
        "id": "RuDHI-rYLS59",
        "outputId": "df668b30-9809-4f82-e62b-22e1b9fde2d9"
      },
      "outputs": [
        {
          "output_type": "stream",
          "name": "stdout",
          "text": [
            "Archivo descargado y guardado como 'neatannarchy.py'.\n"
          ]
        }
      ],
      "source": [
        "import requests\n",
        "\n",
        "url = \"https://github.com/bastianloyola/NEAT-ANNarchy/raw/19ff200696d4973694ea47f55aa4404116827fa3/neatannarchy.py\"\n",
        "file_name = \"neatannarchy.py\"\n",
        "response = requests.get(url)\n",
        "\n",
        "if response.status_code == 200:\n",
        "    with open(file_name, \"wb\") as file:\n",
        "        file.write(response.content)\n",
        "    print(f\"Archivo descargado y guardado como '{file_name}'.\")\n",
        "else:\n",
        "    print(f\"Error al descargar el archivo: {response.status_code}\")\n"
      ]
    },
    {
      "cell_type": "code",
      "execution_count": null,
      "metadata": {
        "id": "DqcUE2QsLS5-"
      },
      "outputs": [],
      "source": [
        "from ANNarchy import *\n",
        "import numpy as np\n",
        "import matplotlib.pyplot as plt\n",
        "import random as rd\n",
        "import scipy.sparse\n",
        "import gymnasium as gym\n",
        "from scipy.special import erf"
      ]
    },
    {
      "cell_type": "markdown",
      "metadata": {
        "id": "I-CyxYPSLS6A"
      },
      "source": [
        "Para utilizar el algoritmo evolutivo se deben definir los parametros de uso, como el modelo neuronal, la red, funcion objetivo y las configuraciòn de hiperparametros"
      ]
    },
    {
      "cell_type": "markdown",
      "metadata": {
        "id": "rxOaMrDuLS6C"
      },
      "source": [
        "# Modelos de Neurona\n",
        "Mediante annarchy definir las neuronas a utilizar, se debe generar un archivo de python llamador neuronmodel.py por eso se utiliza la sentencia \"%%writefile\"\n",
        "\n",
        "Para mayor guia en la definiciòn de modelos de neurona para tu red neuronal de espiga utilizar https://annarchy.readthedocs.io/API/Neuron.html\n",
        "\n",
        "Ejemplos:"
      ]
    },
    {
      "cell_type": "code",
      "execution_count": null,
      "metadata": {
        "colab": {
          "base_uri": "https://localhost:8080/"
        },
        "id": "ZLdpshdfLS6D",
        "outputId": "589fd644-2cd0-4774-af77-b4af329fb87c"
      },
      "outputs": [
        {
          "output_type": "stream",
          "name": "stdout",
          "text": [
            "Overwriting neuronmodel.py\n"
          ]
        }
      ],
      "source": [
        "%%writefile neuronmodel.py\n",
        "\n",
        "from ANNarchy import *\n",
        "\n",
        "LIF = Neuron(  #I = 75\n",
        "    parameters = \"\"\"\n",
        "    tau = 50.0 : population\n",
        "    I = 0.0\n",
        "    tau_I = 10.0 : population\n",
        "    \"\"\",\n",
        "    equations = \"\"\"\n",
        "    tau * dv/dt = -v + g_exc - g_inh + (I-65) : init=0\n",
        "    tau_I * dg_exc/dt = -g_exc\n",
        "    tau_I * dg_inh/dt = -g_inh\n",
        "    \"\"\",\n",
        "    spike = \"v >= -40.0\",\n",
        "    reset = \"v = -65\"\n",
        ")\n",
        "\n",
        "IZHIKEVICH = Neuron(  #I = 20\n",
        "    parameters=\"\"\"\n",
        "        a = 0.02 : population\n",
        "        b = 0.2 : population\n",
        "        c = -65.0 : population\n",
        "        d = 8.0 : population\n",
        "        I = 0.0\n",
        "        tau_I = 10.0 : population\n",
        "    \"\"\",\n",
        "    equations=\"\"\"\n",
        "        dv/dt = 0.04*v*v + 5*v + 140 - u + I + g_exc - g_inh : init=-65\n",
        "        tau_I * dg_exc/dt = -g_exc\n",
        "        tau_I * dg_inh/dt = -g_inh\n",
        "        du/dt = a*(b*v - u) : init=-14.0\n",
        "    \"\"\",\n",
        "    spike=\"v >= 30.0\",\n",
        "    reset=\"v = c; u += d\"\n",
        ")"
      ]
    },
    {
      "cell_type": "markdown",
      "metadata": {
        "id": "haZBCGSwLS6E"
      },
      "source": [
        "# Definición de la función objetivo\n",
        "\n",
        "En este apartado, se debe definir la codificaciòn de la entrada para la red neuronal y además la decodificación de la salida. En esste proceso se debe construir una función objetivo que devuelva un unico valor.\n",
        "\n",
        "Para los ejemplos planteados se utilizará la libreria gymnsaium que permite la implementación de problemas de aprendizaje por refuerzo. Actualmente el algoritmo evolutivo maximiza el fitness, por lo que si se tiene un problema de minimización se debe adecuar por el momento al evaluar la función objetivo.\n",
        "\n"
      ]
    },
    {
      "cell_type": "markdown",
      "metadata": {
        "id": "4fiBR7U2LS6F"
      },
      "source": [
        "Ejemplo 1:\n",
        "\n",
        "Problema del lunar lander\n",
        "\n",
        "Entrada de la red, corresponde a una codificación de las caracteristicas del entorno generando dos neuronas por cada una, activando una de las dos dependiendo si la caracteristica tiene un valor positivo o negativo. Para la decodificaciòn se ve cual de ls dos neuronas de salida tuvo mayor cantidad de spikes en el tiempo simulado, eligiendo así la acción correspondiente a la neurona."
      ]
    },
    {
      "cell_type": "code",
      "execution_count": null,
      "metadata": {
        "colab": {
          "base_uri": "https://localhost:8080/"
        },
        "id": "q7gGje9_LS6G",
        "outputId": "d51a8830-970f-411f-e0e8-9455426be408"
      },
      "outputs": [
        {
          "output_type": "stream",
          "name": "stdout",
          "text": [
            "Overwriting fitness.py\n"
          ]
        }
      ],
      "source": [
        "%%writefile fitness.py\n",
        "\n",
        "from ANNarchy import *\n",
        "import gymnasium as gym\n",
        "import numpy as np\n",
        "\n",
        "def lunar_lander(pop, Monitor, input_index, output_index, inputWeights):\n",
        "    #funcion similar a cartpole, solo que con el entorno de lunar lander 16 entradas y 4 salidas\n",
        "    env = gym.make(\"LunarLander-v3\")\n",
        "    observation, info = env.reset(seed=42)\n",
        "    max_steps = 1000\n",
        "    terminated = False\n",
        "    truncated = False\n",
        "    maxInput = inputWeights[1]\n",
        "    minInput = inputWeights[0]\n",
        "    #Generar 8 input weights para cada input\n",
        "    inputWeights = np.random.uniform(minInput,maxInput,8)\n",
        "    #Number of episodes\n",
        "    episodes = 100\n",
        "    h=0\n",
        "    #Final fitness\n",
        "    final_fitness = 0\n",
        "    while h < episodes:\n",
        "        j=0\n",
        "        returns = []\n",
        "        actions_done = []\n",
        "        while j < max_steps and not terminated and not truncated:\n",
        "            #encode observation, 8 values split in 16 neurons (2 for each value), if value is negative the left neuron is activated, if positive the right neuron is activated\n",
        "            i = 0\n",
        "            k = 0\n",
        "            for val in observation:\n",
        "                if val < 0:\n",
        "                    pop[int(input_index[i])].I = -val*inputWeights[k]\n",
        "                    pop[int(input_index[i+1])].I = 0\n",
        "                else:\n",
        "                    pop[int(input_index[i])].I = 0\n",
        "                    pop[int(input_index[i+1])].I = val*inputWeights[k]\n",
        "                i += 2\n",
        "                k += 1\n",
        "            simulate(100.0)\n",
        "            spikes = Monitor.get('spike')\n",
        "            #Output from 4 neurons, one for each action\n",
        "            output1 = np.size(spikes[output_index[0]])\n",
        "            output2 = np.size(spikes[output_index[1]])\n",
        "            output3 = np.size(spikes[output_index[2]])\n",
        "            output4 = np.size(spikes[output_index[3]])\n",
        "            #Choose the action with the most spikes\n",
        "            action = env.action_space.sample()\n",
        "            if output1 > output2 and output1 > output3 and output1 > output4:\n",
        "                action = 0\n",
        "            elif output2 > output1 and output2 > output3 and output2 > output4:\n",
        "                action = 1\n",
        "            elif output3 > output1 and output3 > output2 and output3 > output4:\n",
        "                action = 2\n",
        "            elif output4 > output1 and output4 > output2 and output4 > output3:\n",
        "                action = 3\n",
        "            observation, reward, terminated, truncated, info = env.step(action)\n",
        "            returns.append(reward)\n",
        "            actions_done.append(action)\n",
        "            Monitor.reset()\n",
        "            j += 1\n",
        "        final_fitness += np.sum(returns)\n",
        "        h += 1\n",
        "\n",
        "    final_fitness = final_fitness/episodes\n",
        "    env.close()\n",
        "    return final_fitness"
      ]
    },
    {
      "cell_type": "markdown",
      "metadata": {
        "id": "zTxe3EXULS6I"
      },
      "source": [
        "# Hiperparámetros evolutivos"
      ]
    },
    {
      "cell_type": "markdown",
      "metadata": {
        "id": "fCRSm9AQLS6J"
      },
      "source": [
        "Se deben definir un conjunto de hiperparametros que se utilizarán en el proceso de evolución, además se deben definir ciertos parametros de configuración relacionados a la poblaciòn, función objetivo y entre otros.\n",
        "\n",
        "Para ello primero se debe contar con una carpeta llamada config donde se tendrá un archivo con los hiperparametros a utilizar."
      ]
    },
    {
      "cell_type": "code",
      "execution_count": null,
      "metadata": {
        "id": "fFZeKybJLS6L"
      },
      "outputs": [],
      "source": [
        "%mkdir -p config"
      ]
    },
    {
      "cell_type": "markdown",
      "metadata": {
        "id": "MSJmeZqyLS6L"
      },
      "source": [
        "A continuación una definición de los elementos contenidos en el archivo de configuración\n",
        "\n",
        "- keep: porcentaje de población que quedará luego del proceso de eliminación\n",
        "- threshold: Umbral de diferencia entre un individuo y el representante de una especie para incorporarlos a la especie en cuestion\n",
        "- interSpecieRate: probabilidad de generar un entrecruzamiento entre individuos de distintas especies\n",
        "- noCrossoverOff: probabilidad de generar un individuo nuevo en la población, unicamente de una mutación.\n",
        "- probabilityWeightMutated: Probabilidad de que una mutación sea cambiar el peso de una conexión aleatoria\n",
        "- probabilityAddNodeSmall: Probabilidad de que una mutación sea añadir un nodo en una conexión aleatoria para una red pequeña\n",
        "- probabilityAddLink_small: Probabilidad de que una mutación sea añadir una conexión aleatoria para una red pequeña\n",
        "- probabilityAddNodeLarge: Probabilidad de que una mutación sea añadir un nodo en una conexión aleatoria para una red grande\n",
        "- probabilityAddLink_Large: Probabilidad de que una mutación sea conexión aleatoria para una red grande\n",
        "- c1, c2 y c3: Factores utilizados en el calculo de un valor representativo de la red, utilizado en la especiación\n",
        "- largeSize: Cantidad de neuronas necesarias para considerar a una red como grande\n",
        "- numberInputs: Cantidad de neuronas de entrada en cada red\n",
        "- numberOutputs: Cantidad de neuronas de salida en cada red\n",
        "- n_max: Cantidad de neuronas maximas que puede tener una red\n",
        "- learningRate: Valor que define el maximo que se le sumará o restará al peso de una conexión\n",
        "- inputWeights: Serie de valores separados por coma, que pueden ser utilizados en la función objetivo.\n",
        "- weightsRange: Valores que tendrán los pesos de las redes al crearlas. Puede ser un rango n,m (donde n < m) y se tomará valores aleatorios en dicho rango. También si se desea tener pesos de un solo valor \"n\", pero que sean positivos y negativos de forma aleatoria se debe definir como n,n\n",
        "- function: Nombre de la función objetivo definida\n",
        "- neuronModel: Nombre del modelo neuronal escogido"
      ]
    },
    {
      "cell_type": "code",
      "execution_count": null,
      "metadata": {
        "colab": {
          "base_uri": "https://localhost:8080/"
        },
        "id": "G7ArBc6WLS6M",
        "outputId": "f6928ae6-254f-4916-f249-784a790ff2a6"
      },
      "outputs": [
        {
          "output_type": "stream",
          "name": "stdout",
          "text": [
            "Overwriting config/config.cfg\n"
          ]
        }
      ],
      "source": [
        "%%writefile config/config.cfg\n",
        "keep=0.49\n",
        "threshold=3.251\n",
        "interSpeciesRate=0.0001\n",
        "noCrossoverOff=0.159\n",
        "probabilityWeightMutated=0.821\n",
        "probabilityAddNodeSmall=0.026\n",
        "probabilityAddLink_small=0.038\n",
        "probabilityAddNodeLarge=0.223\n",
        "probabilityAddLink_Large=0.154\n",
        "c1=1.188\n",
        "c2=1.09\n",
        "c3=0.481\n",
        "largeSize=40\n",
        "numberInputs=16\n",
        "numberOutputs=4\n",
        "n_max=100\n",
        "learningRate=5\n",
        "inputWeights=110,150\n",
        "weightsRange=-20,80"
      ]
    },
    {
      "cell_type": "markdown",
      "metadata": {
        "id": "-NPLmPcqLS6O"
      },
      "source": [
        "Parametros de ejecución\n",
        "\n",
        "- func: Nombre de la función objetivo a evaluar\n",
        "- neuron_model: Nombre del modelo neuronal utilizado en la red\n",
        "- procesos: Cantidad de procesos utilizados en la evaluación de los individuos de la población\n",
        "- evolutions: Cantidad de iteraciones del ciclo evolutivo, es decir las numero de evoluciones de la población\n",
        "- population: Cantidad de genomas en la red"
      ]
    },
    {
      "cell_type": "markdown",
      "metadata": {
        "id": "tPDRw8RVLS6P"
      },
      "source": [
        "# Ejemplo 1 Lunar Lander LIF"
      ]
    },
    {
      "cell_type": "code",
      "execution_count": null,
      "metadata": {
        "id": "6s11Y9ByLS6P"
      },
      "outputs": [],
      "source": [
        "func = \"lunar_lander\"\n",
        "neuron_model = \"LIF\"\n",
        "procesos = 2\n",
        "evolutions = 2\n",
        "population = 4"
      ]
    },
    {
      "cell_type": "code",
      "execution_count": null,
      "metadata": {
        "colab": {
          "base_uri": "https://localhost:8080/"
        },
        "id": "4uaS2dBwLS6P",
        "outputId": "c63b3e84-b4b1-48bf-c6fa-9df2ef1266c4"
      },
      "outputs": [
        {
          "output_type": "stream",
          "name": "stdout",
          "text": [
            "Fitness:  -2.85863\n"
          ]
        }
      ],
      "source": [
        "from neatannarchy import runNEAT\n",
        "\n",
        "#runNEAT requiere como entrada un valor que identificará la carpeta donde se guardará la información de la ejecución\n",
        "#esta carpeta se guardará como results/trial-X, donde X es el valor de la entrada\n",
        "#Las otras entradas son el nombre de la función de fitness, el modelo de neurona, el número de procesos, el número de evoluciones y el tamaño de la población\n",
        "fitness1 = runNEAT(1, func, neuron_model, procesos, evolutions, population)\n",
        "print(\"Fitness: \", fitness1)"
      ]
    }
  ],
  "metadata": {
    "kernelspec": {
      "display_name": "Python 3",
      "language": "python",
      "name": "python3"
    },
    "language_info": {
      "codemirror_mode": {
        "name": "ipython",
        "version": 3
      },
      "file_extension": ".py",
      "mimetype": "text/x-python",
      "name": "python",
      "nbconvert_exporter": "python",
      "pygments_lexer": "ipython3",
      "version": "3.10.12"
    },
    "colab": {
      "provenance": []
    }
  },
  "nbformat": 4,
  "nbformat_minor": 0
}