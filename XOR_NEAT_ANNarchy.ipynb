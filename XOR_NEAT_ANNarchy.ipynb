{
  "cells": [
    {
      "cell_type": "code",
      "execution_count": null,
      "metadata": {
        "id": "OnaXskqaSm4G",
        "outputId": "8d7365e1-8a04-4a9b-e1e3-3dcbaa3b9fae"
      },
      "outputs": [
        {
          "name": "stdout",
          "output_type": "stream",
          "text": [
            "Defaulting to user installation because normal site-packages is not writeable\n",
            "Requirement already satisfied: ANNarchy in /home/wade/.local/lib/python3.10/site-packages (4.7.3)\n",
            "Requirement already satisfied: sympy>=1.6 in /home/wade/.local/lib/python3.10/site-packages (from ANNarchy) (1.12)\n",
            "Requirement already satisfied: scipy>=0.19 in /home/wade/.local/lib/python3.10/site-packages (from ANNarchy) (1.13.0)\n",
            "Requirement already satisfied: matplotlib in /home/wade/.local/lib/python3.10/site-packages (from ANNarchy) (3.8.4)\n",
            "Requirement already satisfied: numpy in /home/wade/.local/lib/python3.10/site-packages (from ANNarchy) (1.26.4)\n",
            "Requirement already satisfied: cython in /home/wade/.local/lib/python3.10/site-packages (from ANNarchy) (3.0.10)\n",
            "Requirement already satisfied: mpmath>=0.19 in /home/wade/.local/lib/python3.10/site-packages (from sympy>=1.6->ANNarchy) (1.3.0)\n",
            "Requirement already satisfied: pillow>=8 in /usr/lib/python3/dist-packages (from matplotlib->ANNarchy) (9.0.1)\n",
            "Requirement already satisfied: fonttools>=4.22.0 in /home/wade/.local/lib/python3.10/site-packages (from matplotlib->ANNarchy) (4.51.0)\n",
            "Requirement already satisfied: cycler>=0.10 in /home/wade/.local/lib/python3.10/site-packages (from matplotlib->ANNarchy) (0.12.1)\n",
            "Requirement already satisfied: python-dateutil>=2.7 in /home/wade/.local/lib/python3.10/site-packages (from matplotlib->ANNarchy) (2.9.0.post0)\n",
            "Requirement already satisfied: pyparsing>=2.3.1 in /usr/lib/python3/dist-packages (from matplotlib->ANNarchy) (2.4.7)\n",
            "Requirement already satisfied: contourpy>=1.0.1 in /home/wade/.local/lib/python3.10/site-packages (from matplotlib->ANNarchy) (1.2.1)\n",
            "Requirement already satisfied: kiwisolver>=1.3.1 in /home/wade/.local/lib/python3.10/site-packages (from matplotlib->ANNarchy) (1.4.5)\n",
            "Requirement already satisfied: packaging>=20.0 in /home/wade/.local/lib/python3.10/site-packages (from matplotlib->ANNarchy) (24.0)\n",
            "Requirement already satisfied: six>=1.5 in /usr/lib/python3/dist-packages (from python-dateutil>=2.7->matplotlib->ANNarchy) (1.16.0)\n",
            "\u001b[33mWARNING: There was an error checking the latest version of pip.\u001b[0m\u001b[33m\n",
            "\u001b[0mNote: you may need to restart the kernel to use updated packages.\n",
            "Defaulting to user installation because normal site-packages is not writeable\n",
            "Requirement already satisfied: gymnasium in /home/wade/.local/lib/python3.10/site-packages (0.29.1)\n",
            "Requirement already satisfied: numpy>=1.21.0 in /home/wade/.local/lib/python3.10/site-packages (from gymnasium) (1.26.4)\n",
            "Requirement already satisfied: cloudpickle>=1.2.0 in /home/wade/.local/lib/python3.10/site-packages (from gymnasium) (3.0.0)\n",
            "Requirement already satisfied: typing-extensions>=4.3.0 in /home/wade/.local/lib/python3.10/site-packages (from gymnasium) (4.11.0)\n",
            "Requirement already satisfied: farama-notifications>=0.0.1 in /home/wade/.local/lib/python3.10/site-packages (from gymnasium) (0.0.4)\n",
            "\u001b[33mWARNING: There was an error checking the latest version of pip.\u001b[0m\u001b[33m\n",
            "\u001b[0mNote: you may need to restart the kernel to use updated packages.\n"
          ]
        }
      ],
      "source": [
        "%pip install ANNarchy\n",
        "%pip install gymnasium"
      ]
    },
    {
      "cell_type": "code",
      "execution_count": null,
      "metadata": {
        "id": "V2cDLT6WSm4M",
        "outputId": "8713e287-2059-4241-95fd-baac890b40d0"
      },
      "outputs": [
        {
          "name": "stderr",
          "output_type": "stream",
          "text": [
            "/usr/lib/python3/dist-packages/requests/__init__.py:87: RequestsDependencyWarning: urllib3 (1.26.5) or chardet (5.2.0) doesn't match a supported version!\n",
            "  warnings.warn(\"urllib3 ({}) or chardet ({}) doesn't match a supported \"\n"
          ]
        },
        {
          "name": "stdout",
          "output_type": "stream",
          "text": [
            "Archivo descargado y guardado como 'neatannarchy.py'.\n"
          ]
        }
      ],
      "source": [
        "import requests\n",
        "\n",
        "url = \"https://github.com/bastianloyola/NEAT-ANNarchy/raw/19ff200696d4973694ea47f55aa4404116827fa3/neatannarchy.py\"\n",
        "file_name = \"neatannarchy.py\"\n",
        "response = requests.get(url)\n",
        "\n",
        "if response.status_code == 200:\n",
        "    with open(file_name, \"wb\") as file:\n",
        "        file.write(response.content)\n",
        "    print(f\"Archivo descargado y guardado como '{file_name}'.\")\n",
        "else:\n",
        "    print(f\"Error al descargar el archivo: {response.status_code}\")\n"
      ]
    },
    {
      "cell_type": "code",
      "execution_count": null,
      "metadata": {
        "id": "prdQ_GYkSm4P",
        "outputId": "f489bfc8-12aa-4c1a-8218-72278c702c90"
      },
      "outputs": [
        {
          "name": "stdout",
          "output_type": "stream",
          "text": [
            "ANNarchy 4.7 (4.7.3) on linux (posix).\n"
          ]
        }
      ],
      "source": [
        "from ANNarchy import *\n",
        "import numpy as np\n",
        "import matplotlib.pyplot as plt\n",
        "import random as rd\n",
        "import scipy.sparse\n",
        "import gymnasium as gym\n",
        "from scipy.special import erf"
      ]
    },
    {
      "cell_type": "markdown",
      "metadata": {
        "id": "zSkNyJjzSm4S"
      },
      "source": [
        "Para utilizar el algoritmo evolutivo se deben definir los parametros de uso, como el modelo neuronal, la red, funcion objetivo y las configuraciòn de hiperparametros"
      ]
    },
    {
      "cell_type": "markdown",
      "metadata": {
        "id": "cP7GKiQeSm4X"
      },
      "source": [
        "# Modelos de Neurona\n",
        "Mediante annarchy definir las neuronas a utilizar, se debe generar un archivo de python llamador neuronmodel.py por eso se utiliza la sentencia \"%%writefile\"\n",
        "\n",
        "Para mayor guia en la definiciòn de modelos de neurona para tu red neuronal de espiga utilizar https://annarchy.readthedocs.io/API/Neuron.html\n",
        "\n",
        "Ejemplos:"
      ]
    },
    {
      "cell_type": "code",
      "execution_count": null,
      "metadata": {
        "id": "EFGwCN2RSm4Z",
        "outputId": "c37a636e-ca83-41aa-97eb-1087e2532fb9"
      },
      "outputs": [
        {
          "name": "stdout",
          "output_type": "stream",
          "text": [
            "Overwriting neuronmodel.py\n"
          ]
        }
      ],
      "source": [
        "%%writefile neuronmodel.py\n",
        "\n",
        "from ANNarchy import *\n",
        "\n",
        "LIF = Neuron(  #I = 75\n",
        "    parameters = \"\"\"\n",
        "    tau = 50.0 : population\n",
        "    I = 0.0\n",
        "    tau_I = 10.0 : population\n",
        "    \"\"\",\n",
        "    equations = \"\"\"\n",
        "    tau * dv/dt = -v + g_exc - g_inh + (I-65) : init=0\n",
        "    tau_I * dg_exc/dt = -g_exc\n",
        "    tau_I * dg_inh/dt = -g_inh\n",
        "    \"\"\",\n",
        "    spike = \"v >= -40.0\",\n",
        "    reset = \"v = -65\"\n",
        ")\n",
        "\n",
        "IZHIKEVICH = Neuron(  #I = 20\n",
        "    parameters=\"\"\"\n",
        "        a = 0.02 : population\n",
        "        b = 0.2 : population\n",
        "        c = -65.0 : population\n",
        "        d = 8.0 : population\n",
        "        I = 0.0\n",
        "        tau_I = 10.0 : population\n",
        "    \"\"\",\n",
        "    equations=\"\"\"\n",
        "        dv/dt = 0.04*v*v + 5*v + 140 - u + I + g_exc - g_inh : init=-65\n",
        "        tau_I * dg_exc/dt = -g_exc\n",
        "        tau_I * dg_inh/dt = -g_inh\n",
        "        du/dt = a*(b*v - u) : init=-14.0\n",
        "    \"\"\",\n",
        "    spike=\"v >= 30.0\",\n",
        "    reset=\"v = c; u += d\"\n",
        ")"
      ]
    },
    {
      "cell_type": "markdown",
      "metadata": {
        "id": "QMj6hPogSm4b"
      },
      "source": [
        "# Definición de la función objetivo\n",
        "\n",
        "En este apartado, se debe definir la codificaciòn de la entrada para la red neuronal y además la decodificación de la salida. En esste proceso se debe construir una función objetivo que devuelva un unico valor.\n",
        "\n",
        "\n"
      ]
    },
    {
      "cell_type": "markdown",
      "metadata": {
        "id": "D79DUoJXSm4d"
      },
      "source": [
        "Ejemplo 1:\n",
        "Problema no linear XOR\n",
        "Entrada de la red, corresponde a entregar un pulso a la neurona asociada a la variable con un 1, la decodificación corresponde a si la neurona de salida emite al menos un impulso"
      ]
    },
    {
      "cell_type": "code",
      "execution_count": null,
      "metadata": {
        "id": "L4arE0eYSm4f",
        "outputId": "ec6df641-5704-43e9-b517-c86e4e9b17c3"
      },
      "outputs": [
        {
          "name": "stdout",
          "output_type": "stream",
          "text": [
            "Overwriting fitness.py\n"
          ]
        }
      ],
      "source": [
        "%%writefile fitness.py\n",
        "\n",
        "from ANNarchy import *\n",
        "import numpy as np\n",
        "\n",
        "def xor(pop,Monitor,input_index,output_index,inputWeights):\n",
        "    Monitor.reset()\n",
        "    entradas = [(0, 0), (0, 1), (1, 0), (1, 1)]\n",
        "    fitness = 0\n",
        "    for entrada in entradas:\n",
        "        for i, val in zip(input_index, entrada):\n",
        "            if val == 1:\n",
        "                pop[int(i)].I = 15.1*inputWeights[i]\n",
        "            else:\n",
        "                pop[int(i)].I = 0\n",
        "        simulate(10.0)\n",
        "        spikes = Monitor.get('spike')\n",
        "        #print(\"spikes: \",spikes)\n",
        "        #Get the output\n",
        "        output = 0\n",
        "        for i in output_index:\n",
        "            output += np.size(spikes[i])\n",
        "        #print(\"spike output: \",output)\n",
        "\n",
        "        decode_output = 0\n",
        "        if output > 1:\n",
        "            decode_output = 1\n",
        "\n",
        "        pop.reset()\n",
        "        Monitor.reset()\n",
        "        #comparar las entradas y la salida esperada con el output\n",
        "        if entrada[0] ^ entrada[1] == decode_output:\n",
        "            fitness += 1\n",
        "    return fitness"
      ]
    },
    {
      "cell_type": "markdown",
      "metadata": {
        "id": "HWw8QiYuSm4k"
      },
      "source": [
        "# Hiperparámetros evolutivos"
      ]
    },
    {
      "cell_type": "markdown",
      "metadata": {
        "id": "eGowSU1sSm4l"
      },
      "source": [
        "Se deben definir un conjunto de hiperparametros que se utilizarán en el proceso de evolución, además se deben definir ciertos parametros de configuración relacionados a la poblaciòn, función objetivo y entre otros.\n",
        "\n",
        "Para ello primero se debe contar con una carpeta llamada config donde se tendrá un archivo con los hiperparametros a utilizar."
      ]
    },
    {
      "cell_type": "code",
      "execution_count": null,
      "metadata": {
        "id": "guGOxGx3Sm4m"
      },
      "outputs": [],
      "source": [
        "%mkdir -p config"
      ]
    },
    {
      "cell_type": "markdown",
      "metadata": {
        "id": "AmwS1ehASm4n"
      },
      "source": [
        "A continuación una definición de los elementos contenidos en el archivo de configuración\n",
        "\n",
        "- keep: porcentaje de población que quedará luego del proceso de eliminación\n",
        "- threshold: Umbral de diferencia entre un individuo y el representante de una especie para incorporarlos a la especie en cuestion\n",
        "- interSpecieRate: probabilidad de generar un entrecruzamiento entre individuos de distintas especies\n",
        "- noCrossoverOff: probabilidad de generar un individuo nuevo en la población, unicamente de una mutación.\n",
        "- probabilityWeightMutated: Probabilidad de que una mutación sea cambiar el peso de una conexión aleatoria\n",
        "- probabilityAddNodeSmall: Probabilidad de que una mutación sea añadir un nodo en una conexión aleatoria para una red pequeña\n",
        "- probabilityAddLink_small: Probabilidad de que una mutación sea añadir una conexión aleatoria para una red pequeña\n",
        "- probabilityAddNodeLarge: Probabilidad de que una mutación sea añadir un nodo en una conexión aleatoria para una red grande\n",
        "- probabilityAddLink_Large: Probabilidad de que una mutación sea conexión aleatoria para una red grande\n",
        "- c1, c2 y c3: Factores utilizados en el calculo de un valor representativo de la red, utilizado en la especiación\n",
        "- largeSize: Cantidad de neuronas necesarias para considerar a una red como grande\n",
        "- numberInputs: Cantidad de neuronas de entrada en cada red\n",
        "- numberOutputs: Cantidad de neuronas de salida en cada red\n",
        "- n_max: Cantidad de neuronas maximas que puede tener una red\n",
        "- learningRate: Valor que define el maximo que se le sumará o restará al peso de una conexión\n",
        "- inputWeights: Serie de valores separados por coma, que pueden ser utilizados en la función objetivo.\n",
        "- weightsRange: Valores que tendrán los pesos de las redes al crearlas. Puede ser un rango n,m (donde n < m) y se tomará valores aleatorios en dicho rango. También si se desea tener pesos de un solo valor \"n\", pero que sean positivos y negativos de forma aleatoria se debe definir como n,n\n",
        "- function: Nombre de la función objetivo definida\n",
        "- neuronModel: Nombre del modelo neuronal escogido"
      ]
    },
    {
      "cell_type": "code",
      "execution_count": null,
      "metadata": {
        "id": "kogvrjNlSm4o",
        "outputId": "c45e74e4-8e92-4d47-926f-18c033b5fb96"
      },
      "outputs": [
        {
          "name": "stdout",
          "output_type": "stream",
          "text": [
            "Overwriting config/config.cfg\n"
          ]
        }
      ],
      "source": [
        "%%writefile config/config.cfg\n",
        "keep=0.49\n",
        "threshold=3.251\n",
        "interSpeciesRate=0.0001\n",
        "noCrossoverOff=0.159\n",
        "probabilityWeightMutated=0.821\n",
        "probabilityAddNodeSmall=0.026\n",
        "probabilityAddLink_small=0.038\n",
        "probabilityAddNodeLarge=0.223\n",
        "probabilityAddLink_Large=0.154\n",
        "c1=1.188\n",
        "c2=1.09\n",
        "c3=0.481\n",
        "largeSize=8\n",
        "numberInputs=2\n",
        "numberOutputs=1\n",
        "n_max=100\n",
        "learningRate=10\n",
        "inputWeights=110,150\n",
        "weightsRange=-20,80"
      ]
    },
    {
      "cell_type": "markdown",
      "metadata": {
        "id": "wGWJKg6MSm4p"
      },
      "source": [
        "Parametros de ejecución\n",
        "\n",
        "- func: Nombre de la función objetivo a evaluar\n",
        "- neuron_model: Nombre del modelo neuronal utilizado en la red\n",
        "- procesos: Cantidad de procesos utilizados en la evaluación de los individuos de la población\n",
        "- evolutions: Cantidad de iteraciones del ciclo evolutivo, es decir las numero de evoluciones de la población\n",
        "- population: Cantidad de genomas en la red"
      ]
    },
    {
      "cell_type": "markdown",
      "metadata": {
        "id": "nCSEuU1FSm4q"
      },
      "source": [
        "# Ejemplo 1 XOR"
      ]
    },
    {
      "cell_type": "code",
      "execution_count": null,
      "metadata": {
        "id": "36cFxXm9Sm4q"
      },
      "outputs": [],
      "source": [
        "func = \"xor\"\n",
        "neuron_model = \"LIF\"\n",
        "procesos = 2\n",
        "evolutions = 2\n",
        "population = 4"
      ]
    },
    {
      "cell_type": "code",
      "execution_count": null,
      "metadata": {
        "id": "f4hRL8nqSm4r",
        "outputId": "f3c79775-7ba7-4cf1-f266-02ad3bb8dbba"
      },
      "outputs": [
        {
          "name": "stdout",
          "output_type": "stream",
          "text": [
            "Fitness:  18.01\n"
          ]
        }
      ],
      "source": [
        "from neatannarchy import runNEAT\n",
        "\n",
        "#runNEAT requiere como entrada un valor que identificará la carpeta donde se guardará la información de la ejecución\n",
        "#esta carpeta se guardará como results/trial-X, donde X es el valor de la entrada\n",
        "#Las otras entradas son el nombre de la función de fitness, el modelo de neurona, el número de procesos, el número de evoluciones y el tamaño de la población\n",
        "fitness1 = runNEAT(1, func, neuron_model, procesos, evolutions, population)\n",
        "print(\"Fitness: \", fitness1)"
      ]
    }
  ],
  "metadata": {
    "kernelspec": {
      "display_name": "Python 3",
      "language": "python",
      "name": "python3"
    },
    "language_info": {
      "codemirror_mode": {
        "name": "ipython",
        "version": 3
      },
      "file_extension": ".py",
      "mimetype": "text/x-python",
      "name": "python",
      "nbconvert_exporter": "python",
      "pygments_lexer": "ipython3",
      "version": "3.10.12"
    },
    "colab": {
      "provenance": []
    }
  },
  "nbformat": 4,
  "nbformat_minor": 0
}